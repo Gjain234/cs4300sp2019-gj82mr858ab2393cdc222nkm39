{
 "cells": [
  {
   "cell_type": "code",
   "execution_count": 1,
   "metadata": {},
   "outputs": [],
   "source": [
    "from __future__ import print_function\n",
    "import numpy as np\n",
    "import json"
   ]
  },
  {
   "cell_type": "code",
   "execution_count": 2,
   "metadata": {},
   "outputs": [
    {
     "name": "stdout",
     "output_type": "stream",
     "text": [
      "('Ken Robinson: Do schools kill creativity?', 'Sir Ken Robinson makes an entertaining and profoundly moving case for creating an education system that nurtures (rather than undermines) creativity.')\n"
     ]
    }
   ],
   "source": [
    "documents=[]\n",
    "with open(\"ted_main.json\", encoding=\"utf8\") as f:\n",
    "    data=json.load(f)\n",
    "    for x in data:\n",
    "        documents.append((x[\"name\"], x[\"description\"]))\n",
    "print(documents[0])"
   ]
  },
  {
   "cell_type": "code",
   "execution_count": 3,
   "metadata": {},
   "outputs": [],
   "source": [
    "from sklearn.feature_extraction.text import TfidfVectorizer"
   ]
  },
  {
   "cell_type": "code",
   "execution_count": 5,
   "metadata": {},
   "outputs": [],
   "source": [
    "vectorizer = TfidfVectorizer(stop_words = 'english', max_df = .7,\n",
    "                            min_df = 75)\n",
    "my_matrix = vectorizer.fit_transform([x[1] for x in documents]).transpose()"
   ]
  },
  {
   "cell_type": "code",
   "execution_count": 6,
   "metadata": {},
   "outputs": [
    {
     "name": "stdout",
     "output_type": "stream",
     "text": [
      "<class 'scipy.sparse.csc.csc_matrix'>\n",
      "(70, 2550)\n"
     ]
    }
   ],
   "source": [
    "print(type(my_matrix))\n",
    "print(my_matrix.shape)"
   ]
  },
  {
   "cell_type": "code",
   "execution_count": 9,
   "metadata": {},
   "outputs": [],
   "source": [
    "from scipy.sparse.linalg import svds\n",
    "u, s, v_trans = svds(my_matrix, k=50)"
   ]
  },
  {
   "cell_type": "code",
   "execution_count": 10,
   "metadata": {},
   "outputs": [
    {
     "name": "stdout",
     "output_type": "stream",
     "text": [
      "(70, 50)\n",
      "(50,)\n",
      "(50, 2550)\n"
     ]
    }
   ],
   "source": [
    "print(u.shape)\n",
    "print(s.shape)\n",
    "print(v_trans.shape)"
   ]
  },
  {
   "cell_type": "code",
   "execution_count": 11,
   "metadata": {},
   "outputs": [
    {
     "data": {
      "image/png": "[encoded data removed]",
      "text/plain": [
       "<matplotlib.figure.Figure at 0x21dc1c24080>"
      ]
     },
     "metadata": {},
     "output_type": "display_data"
    }
   ],
   "source": [
    "import matplotlib\n",
    "import numpy as np\n",
    "import matplotlib.pyplot as plt\n",
    "%matplotlib inline\n",
    "plt.plot(s[::-1])\n",
    "plt.xlabel(\"Singular value number\")\n",
    "plt.ylabel(\"Singular value\")\n",
    "plt.show()"
   ]
  },
  {
   "cell_type": "code",
   "execution_count": 12,
   "metadata": {},
   "outputs": [],
   "source": [
    "words_compressed, _, docs_compressed = svds(my_matrix, k=30)\n",
    "docs_compressed = docs_compressed.transpose()"
   ]
  },
  {
   "cell_type": "code",
   "execution_count": 13,
   "metadata": {},
   "outputs": [
    {
     "name": "stdout",
     "output_type": "stream",
     "text": [
      "(70, 30)\n",
      "(2550, 30)\n"
     ]
    }
   ],
   "source": [
    "print(words_compressed.shape)\n",
    "print(docs_compressed.shape)"
   ]
  },
  {
   "cell_type": "code",
   "execution_count": 20,
   "metadata": {},
   "outputs": [
    {
     "name": "stdout",
     "output_type": "stream",
     "text": [
      "(70, 30)\n"
     ]
    }
   ],
   "source": [
    "word_to_index = vectorizer.vocabulary_\n",
    "index_to_word = {i:t for t,i in word_to_index.items()}\n",
    "print(words_compressed.shape)"
   ]
  },
  {
   "cell_type": "code",
   "execution_count": 21,
   "metadata": {},
   "outputs": [
    {
     "name": "stdout",
     "output_type": "stream",
     "text": [
      "{'personal': 36, 'stories': 47, 'just': 23, 'life': 26, 'makes': 32, 'create': 9, 'talk': 52, 'says': 41, 'suggests': 49, 'help': 21, 'day': 11, 'shows': 44, 'powerful': 38, 'people': 35, 'learn': 25, 'talks': 53, 'change': 8, 'make': 31, 'years': 69, 'case': 7, 'work': 65, 'takes': 51, 'know': 24, 'story': 48, 'year': 68, 'social': 46, 'lives': 29, 'technology': 55, 'time': 59, 'women': 64, 'brain': 4, 'big': 3, 'like': 27, 'asks': 1, 'power': 37, 'team': 54, 'ted': 56, 'human': 22, 'simple': 45, 'real': 39, 'does': 13, 'world': 67, 'design': 12, 'look': 30, 'shares': 43, 'surprising': 50, 'build': 5, 'think': 58, 'global': 19, 'calls': 6, 'fellow': 16, 'live': 28, 'health': 20, 'use': 60, 'working': 66, 'ways': 63, 'art': 0, 'better': 2, 'using': 61, 'way': 62, 'tells': 57, 'don': 14, 'funny': 17, 'explains': 15, 'research': 40, 'science': 42, 'need': 33, 'data': 10, 'future': 18, 'new': 34}\n"
     ]
    }
   ],
   "source": [
    "word_to_index = vectorizer.vocabulary_\n",
    "print(word_to_index)"
   ]
  },
  {
   "cell_type": "code",
   "execution_count": 22,
   "metadata": {},
   "outputs": [],
   "source": [
    "from sklearn.preprocessing import normalize\n",
    "words_compressed = normalize(words_compressed, axis = 1)"
   ]
  },
  {
   "cell_type": "code",
   "execution_count": 23,
   "metadata": {},
   "outputs": [],
   "source": [
    "def closest_words(word_in, k = 10):\n",
    "    if word_in not in word_to_index: return \"Not in vocab.\"\n",
    "    sims = words_compressed.dot(words_compressed[word_to_index[word_in],:])\n",
    "    asort = np.argsort(-sims)[:k+1]\n",
    "    return [(index_to_word[i],sims[i]/sims[asort[0]]) for i in asort[1:]]"
   ]
  },
  {
   "cell_type": "code",
   "execution_count": 25,
   "metadata": {},
   "outputs": [
    {
     "data": {
      "text/plain": [
       "[('data', 0.5957732631131383),\n",
       " ('know', 0.43752238823683615),\n",
       " ('research', 0.42569674177021743),\n",
       " ('real', 0.3865886611346689),\n",
       " ('lives', 0.36190961958994483),\n",
       " ('does', 0.3570494588016265),\n",
       " ('surprising', 0.3459974818850761),\n",
       " ('global', 0.3223091322601561),\n",
       " ('suggests', 0.29006810751129164),\n",
       " ('makes', 0.28966095860296975)]"
      ]
     },
     "execution_count": 25,
     "metadata": {},
     "output_type": "execute_result"
    }
   ],
   "source": [
    "closest_words(\"health\")"
   ]
  },
  {
   "cell_type": "code",
   "execution_count": 34,
   "metadata": {},
   "outputs": [],
   "source": [
    "docs_compressed = normalize(docs_compressed, axis = 1)\n",
    "def closest_projects(project_index_in, k = 15):\n",
    "    sims = docs_compressed.dot(docs_compressed[project_index_in,:])\n",
    "    asort = np.argsort(-sims)[:k+1]\n",
    "    return [(documents[i][0],sims[i]/sims[asort[0]]) for i in asort[1:]]"
   ]
  },
  {
   "cell_type": "code",
   "execution_count": 35,
   "metadata": {},
   "outputs": [
    {
     "name": "stdout",
     "output_type": "stream",
     "text": [
      "Jehane Noujaim: My wish: A global day of film\n",
      "[('Aziza Chaouni: How I brought a river, and my city, back to life', 0.8388802759248551), ('Rory  Bremner: A one-man world summit', 0.8234091713116944)]\n"
     ]
    }
   ],
   "source": [
    "print(documents[11][0])\n",
    "print(closest_projects(11))"
   ]
  },
  {
   "cell_type": "code",
   "execution_count": 27,
   "metadata": {},
   "outputs": [
    {
     "name": "stdout",
     "output_type": "stream",
     "text": [
      "Ken Robinson: Do schools kill creativity?\n",
      "Jonas Gahr Støre: In defense of dialogue:1.000\n",
      "Malcolm Gladwell: Choice, happiness and :0.997\n",
      "David Kwong: Two nerdy obsessions meet -:0.997\n",
      "Gary Vaynerchuk: Do what you love (no ex:0.997\n",
      "Kim Gorgens: Protecting the brain agains:0.993\n",
      "\n",
      "Al Gore: Averting the climate crisis\n",
      "Improv Everywhere: Gotta share!:0.756\n",
      "David Keith: A critical look at geoengin:0.700\n",
      "Juan Enriquez: Using biology to rethink :0.700\n",
      "Joseph Nye: Global power shifts:0.697\n",
      "Chrystia Freeland: The rise of the new g:0.682\n",
      "\n",
      "David Pogue: Simplicity sells\n",
      "Janine Benyus: Biomimicry in action:0.882\n",
      "Emily Pilloton: Teaching design for chan:0.877\n",
      "Paola Antonelli: Treat design as art:0.865\n",
      "Neri Oxman: Design at the intersection o:0.855\n",
      "Philippe Starck: Design and destiny:0.803\n",
      "\n",
      "Majora Carter: Greening the ghetto\n",
      "Majora Carter: Greening the ghetto:1.000\n",
      "Jonathan Drori: The beautiful tricks of :0.964\n",
      "Richard Resnick: Welcome to the genomic :0.956\n",
      "Hannah Fry: The mathematics of love:0.905\n",
      "Geoffrey West: The surprising math of ci:0.873\n",
      "\n",
      "Hans Rosling: The best stats you've ever seen\n",
      "JP Rangaswami: Information is food:0.783\n",
      "Jennifer Healey: If cars could talk, acc:0.777\n",
      "Danny Dorling: Maps that show us who we :0.754\n",
      "Hans Rosling: Let my dataset change your:0.736\n",
      "Hans Rosling: Insights on HIV, in stunni:0.734\n",
      "\n",
      "Tony Robbins: Why we do what we do\n",
      "Anne-Marie Slaughter: Can we all \"have i:nan\n",
      "Toby Shapshak: You don't need an app for:nan\n",
      "Carin Bondar: The birds and the bees are:nan\n",
      "Steven Pinker and Rebecca Newberger Gold:nan\n",
      "Daniel Reisel: The neuroscience of resto:nan\n",
      "\n",
      "Julia Sweeney: Letting go of God\n",
      "Julia Sweeney: Letting go of God:1.000\n",
      "James Forbes: Compassion at the dinner t:0.905\n",
      "Louie Schwartzberg: Nature. Beauty. Grat:0.774\n",
      "Nagin Cox: What time is it on Mars?:0.729\n",
      "Jamila Lyiscott: 3 ways to speak English:0.677\n",
      "\n",
      "Joshua Prince-Ramus: Behind the design of Seattle's library\n",
      "Eddy Cartaya: My glacier cave discoverie:1.000\n",
      "Hillel Cooperman: Legos for grownups:1.000\n",
      "Mike deGruy: Hooked by an octopus:1.000\n",
      "Barry Schwartz: The paradox of choice:1.000\n",
      "Joshua Prince-Ramus: Behind the design o:1.000\n",
      "\n",
      "Dan Dennett: Let's teach religion -- all religion -- in schools\n",
      "David Gallo: Life in the deep oceans:0.982\n",
      "Bruce Feiler: Agile programming -- for y:0.838\n",
      "Anna Deavere Smith: Four American charac:0.827\n",
      "Matt Weinstein: What Bernie Madoff could:0.827\n",
      "James Howard Kunstler: The ghastly trage:0.827\n",
      "\n",
      "Rick Warren: A life of purpose\n",
      "Jane McGonigal: The game that can give y:0.882\n",
      "Anthony D. Romero: This is what democrac:0.772\n",
      "Jackie Tabick: The balancing act of comp:0.761\n",
      "David Baron: You owe it to yourself to e:0.761\n",
      "Nandan Nilekani: Ideas for India's futur:0.761\n",
      "\n"
     ]
    },
    {
     "name": "stderr",
     "output_type": "stream",
     "text": [
      "c:\\users\\andre\\appdata\\local\\programs\\python\\python35\\lib\\site-packages\\ipykernel_launcher.py:5: RuntimeWarning: invalid value encountered in double_scalars\n",
      "  \"\"\"\n"
     ]
    }
   ],
   "source": [
    "for i in range(10):\n",
    "    print(documents[i][0])\n",
    "    for title, score in closest_projects(i):\n",
    "        print(\"{}:{:.3f}\".format(title[:40], score))\n",
    "    print()"
   ]
  },
  {
   "cell_type": "code",
   "execution_count": null,
   "metadata": {},
   "outputs": [],
   "source": []
  }
 ],
 "metadata": {
  "kernelspec": {
   "display_name": "Python 3",
   "language": "python",
   "name": "python3"
  },
  "language_info": {
   "codemirror_mode": {
    "name": "ipython",
    "version": 3
   },
   "file_extension": ".py",
   "mimetype": "text/x-python",
   "name": "python",
   "nbconvert_exporter": "python",
   "pygments_lexer": "ipython3",
   "version": "3.5.2"
  }
 },
 "nbformat": 4,
 "nbformat_minor": 2
}
