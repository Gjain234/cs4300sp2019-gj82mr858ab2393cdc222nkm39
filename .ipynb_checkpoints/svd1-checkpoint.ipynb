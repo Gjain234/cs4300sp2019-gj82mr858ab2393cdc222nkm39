{
 "cells": [
  {
   "cell_type": "code",
   "execution_count": 1,
   "metadata": {},
   "outputs": [],
   "source": [
    "from __future__ import print_function\n",
    "import numpy as np\n",
    "import json\n",
    "from sklearn.feature_extraction.text import TfidfVectorizer\n",
    "from scipy.sparse.linalg import svds\n",
    "from sklearn.preprocessing import normalize"
   ]
  },
  {
   "cell_type": "code",
   "execution_count": 2,
   "metadata": {},
   "outputs": [],
   "source": [
    "#opens json file and creates a list of tuples with name of video and description called documents\n",
    "#data represents a list of dictionarys for each video with all of the info from ted_main"
   ]
  },
  {
   "cell_type": "code",
   "execution_count": 3,
   "metadata": {},
   "outputs": [],
   "source": [
    "documents=[]\n",
    "with open(\"ted_main.json\", encoding=\"utf8\") as f:\n",
    "    data=json.load(f)\n",
    "    for x in data:\n",
    "        documents.append((x[\"name\"], x[\"description\"]))"
   ]
  },
  {
   "cell_type": "code",
   "execution_count": 4,
   "metadata": {},
   "outputs": [],
   "source": [
    "#given the data file and the title of the video, outputs the index that video is located at"
   ]
  },
  {
   "cell_type": "code",
   "execution_count": 5,
   "metadata": {},
   "outputs": [],
   "source": [
    "def findindex(data,title):\n",
    "    for x in range(len(data)):\n",
    "        if data[x]['name']== title:\n",
    "            return x"
   ]
  },
  {
   "cell_type": "code",
   "execution_count": 6,
   "metadata": {},
   "outputs": [],
   "source": [
    "#creates tf-idf matrix, can alter max_df and min_df"
   ]
  },
  {
   "cell_type": "code",
   "execution_count": 7,
   "metadata": {},
   "outputs": [],
   "source": [
    "vectorizer = TfidfVectorizer(stop_words = 'english', max_df = .8,\n",
    "                            min_df = 40)\n",
    "my_matrix = vectorizer.fit_transform([x[1] for x in documents]).transpose()"
   ]
  },
  {
   "cell_type": "code",
   "execution_count": 8,
   "metadata": {},
   "outputs": [],
   "source": [
    "#runs svd, can alter k but values mostly live in the space under 30"
   ]
  },
  {
   "cell_type": "code",
   "execution_count": 9,
   "metadata": {},
   "outputs": [
    {
     "name": "stdout",
     "output_type": "stream",
     "text": [
      "(2550, 25)\n"
     ]
    }
   ],
   "source": [
    "words_compressed, _, docs_compressed = svds(my_matrix, k=25)\n",
    "docs_compressed = docs_compressed.transpose()\n",
    "print(docs_compressed.shape)"
   ]
  },
  {
   "cell_type": "code",
   "execution_count": 10,
   "metadata": {},
   "outputs": [],
   "source": [
    "#creates clusters of 15 vidoes based on the index of the input video"
   ]
  },
  {
   "cell_type": "code",
   "execution_count": 20,
   "metadata": {},
   "outputs": [],
   "source": [
    "docs_compressed = normalize(docs_compressed, axis = 1)\n",
    "def closest_projects(project_index_in, k = 15):\n",
    "    print(docs_compressed.shape)\n",
    "    print(docs_compressed[project_index_in,:].shape)\n",
    "    sims = docs_compressed.dot(docs_compressed[project_index_in,:])\n",
    "    print(sims.shape)\n",
    "    asort = np.argsort(-sims)[:k+1]\n",
    "    return [(documents[i][0],sims[i]/sims[asort[0]]) for i in asort[1:]]"
   ]
  },
  {
   "cell_type": "code",
   "execution_count": null,
   "metadata": {},
   "outputs": [],
   "source": []
  },
  {
   "cell_type": "code",
   "execution_count": 21,
   "metadata": {},
   "outputs": [
    {
     "name": "stdout",
     "output_type": "stream",
     "text": [
      "Ken Robinson: Do schools kill creativity?\n",
      "(2550, 25)\n",
      "(25,)\n",
      "(2550,)\n",
      "Jonas Gahr Støre: In defense of dialogue:0.984\n",
      "Kim Gorgens: Protecting the brain agains:0.965\n",
      "Lauren Zalaznick: The conscience of tele:0.962\n",
      "Shimon Steinberg: Natural pest control .:0.952\n",
      "David Kwong: Two nerdy obsessions meet -:0.943\n",
      "Peter Diamandis: Abundance is our future:0.933\n",
      "Suzanne Talhouk: Don't kill your languag:0.931\n",
      "Simon Sinek: Why good leaders make you f:0.931\n",
      "Kathryn Schulz: On being wrong:0.923\n",
      "Ken Robinson: Bring on the learning revo:0.914\n",
      "Gary Vaynerchuk: Do what you love (no ex:0.913\n",
      "Myriam Sidibe: The simple power of hand-:0.888\n",
      "Lian Pin Koh: A drone's-eye view of cons:0.881\n",
      "Cameron Herold: Let's raise kids to be e:0.877\n",
      "McKenna Pope: Want to be an activist? St:0.876\n",
      "\n",
      "Al Gore: Averting the climate crisis\n",
      "(2550, 25)\n",
      "(25,)\n",
      "(2550,)\n",
      "Jennifer Kahn: Gene editing can now chan:0.907\n",
      "David Keith: A critical look at geoengin:0.875\n",
      "Al Gore: New thinking on the climate cri:0.871\n",
      "Juan Enriquez: Using biology to rethink :0.867\n",
      "Cary Fowler: One seed at a time, protect:0.856\n",
      "David Sedlak: 4 ways we can avoid a cata:0.852\n",
      "Gavin Schmidt: The emergent patterns of :0.839\n",
      "Lewis Pugh: My mind-shifting Everest swi:0.816\n",
      "Lord Nicholas Stern: The state of the cl:0.806\n",
      "Tim Jackson: An economic reality check:0.800\n",
      "Michael Metcalfe: A provocative way to f:0.798\n",
      "Jonathan Foley: The other inconvenient t:0.779\n",
      "Anote Tong: My country will be underwate:0.766\n",
      "James Hansen: Why I must speak out about:0.763\n",
      "Christiana Figueres: The inside story of:0.761\n",
      "\n",
      "David Pogue: Simplicity sells\n",
      "(2550, 25)\n",
      "(25,)\n",
      "(2550,)\n",
      "Janine Benyus: Biomimicry in action:0.897\n",
      "Paola Antonelli: Treat design as art:0.835\n",
      "Michael Bierut: How to design a library :0.834\n",
      "Emily Pilloton: Teaching design for chan:0.814\n",
      "Neri Oxman: Design at the intersection o:0.794\n",
      "David Byrne, Ethel + Thomas Dolby: \"(Not:0.775\n",
      "Chris Bangle: Great cars are great art:0.771\n",
      "David Rockwell: A memorial at Ground Zer:0.769\n",
      "Paola Antonelli: Why I brought Pac-Man t:0.766\n",
      "Philippe Starck: Design and destiny:0.761\n",
      "John Hodgman: Design, explained.:0.760\n",
      "Larry Burns: The future of cars:0.751\n",
      "Angela Lee Duckworth: Grit: The power of:0.738\n",
      "David Kelley: How to build your creative:0.726\n",
      "Steven  Cowley: Fusion is energy's futur:0.716\n",
      "\n",
      "Majora Carter: Greening the ghetto\n",
      "(2550, 25)\n",
      "(25,)\n",
      "(2550,)\n",
      "Bjarke Ingels: Hedonistic sustainability:0.982\n",
      "Jonathan Drori: The beautiful tricks of :0.925\n",
      "Hannah Fry: The mathematics of love:0.854\n",
      "P.W. Singer: Military robots and the fut:0.850\n",
      "Geoffrey West: The surprising math of ci:0.842\n",
      "Richard Resnick: Welcome to the genomic :0.828\n",
      "Kate Hartman: The art of wearable commun:0.822\n",
      "Trita Parsi: Iran and Israel: Peace is p:0.817\n",
      "Camille Seaman: Photos from a storm chas:0.809\n",
      "Cynthia Schneider: The surprising spread:0.806\n",
      "Seth Priebatsch: The game layer on top o:0.804\n",
      "Roger Doiron: My subversive (garden) plo:0.800\n",
      "Danielle de Niese: A flirtatious aria:0.796\n",
      "Derek Sivers: Weird, or just different?:0.794\n",
      "Julian Treasure: The 4 ways sound affect:0.792\n",
      "\n",
      "Hans Rosling: The best stats you've ever seen\n",
      "(2550, 25)\n",
      "(25,)\n",
      "(2550,)\n",
      "Jennifer Healey: If cars could talk, acc:0.805\n",
      "Danny Dorling: Maps that show us who we :0.799\n",
      "Shyam Sankar: The rise of human-computer:0.780\n",
      "JP Rangaswami: Information is food:0.751\n",
      "Hans Rosling: Insights on HIV, in stunni:0.749\n",
      "Peter van Manen: Better baby care -- tha:0.728\n",
      "Hans Rosling: Let my dataset change your:0.712\n",
      "Jonathan Zittrain: The Web as random act:0.694\n",
      "Maria Bezaitis: Why we need strangeness:0.694\n",
      "Sebastian Wernicke: How to use data to m:0.694\n",
      "Clay Shirky: Why SOPA is a bad idea:0.678\n",
      "John Delaney: Wiring an interactive ocea:0.675\n",
      "Sean Gourley: The mathematics of war:0.671\n",
      "Hans Rosling: New insights on poverty:0.670\n",
      "Arthur Benjamin: A performance of \"Mathe:0.664\n",
      "\n",
      "Tony Robbins: Why we do what we do\n",
      "(2550, 25)\n",
      "(25,)\n",
      "(2550,)\n",
      "Craig Venter: Watch me unveil \"synthetic:0.709\n",
      "Angela Lee Duckworth: Grit: The power of:0.660\n",
      "Will Wright: Spore, birth of a game:0.648\n",
      "Kang Lee: Can you really tell if a kid i:0.636\n",
      "Robert Full: Learning from the gecko's t:0.614\n",
      "Seth Shostak: ET is (probably) out there:0.609\n",
      "Cheryl Hayashi: The magnificence of spid:0.600\n",
      "David Baron: You owe it to yourself to e:0.598\n",
      "Ben Goldacre: Battling bad science:0.589\n",
      "Jackie Tabick: The balancing act of comp:0.574\n",
      "Raghava KK: What's your 200-year plan?:0.546\n",
      "David Casarett: A doctor's case for medi:0.545\n",
      "Wendy Freedman: This telescope might sho:0.545\n",
      "Keith Chen: Could your language affect y:0.544\n",
      "Golan Levin: Art that looks back at you:0.543\n",
      "\n",
      "Julia Sweeney: Letting go of God\n",
      "(2550, 25)\n",
      "(25,)\n",
      "(2550,)\n",
      "James Forbes: Compassion at the dinner t:0.790\n",
      "Louie Schwartzberg: Nature. Beauty. Grat:0.709\n",
      "Tiq Milan and Kim Katrin Milan: A queer :0.706\n",
      "Jamila Lyiscott: 3 ways to speak English:0.695\n",
      "Ed Gavagan: A story about knots and surg:0.670\n",
      "Curtis \"Wall Street\" Carroll: How I lear:0.663\n",
      "Nicole Paris and Ed Cage: A beatboxing l:0.661\n",
      "Ravin Agrawal: 10 young Indian artists t:0.648\n",
      "Tania Luna: How a penny made me feel lik:0.623\n",
      "Ngozi Okonjo-Iweala: Aid versus trade:0.615\n",
      "Ken Kamler: Medical miracle on Everest:0.607\n",
      "Liz Coleman: A call to reinvent liberal :0.602\n",
      "Gill Hicks: I survived a terrorist attac:0.596\n",
      "Yang Lan: The generation that's remaking:0.578\n",
      "Malcolm Gladwell: The unheard story of D:0.570\n",
      "\n",
      "Joshua Prince-Ramus: Behind the design of Seattle's library\n",
      "(2550, 25)\n",
      "(25,)\n",
      "(2550,)\n",
      "Anand Agarawala: Rethink the desktop wit:0.954\n",
      "Barry Schwartz: The paradox of choice:0.954\n",
      "Eddy Cartaya: My glacier cave discoverie:0.800\n",
      "Philippe Petit: The journey across the h:0.785\n",
      "Mike deGruy: Hooked by an octopus:0.727\n",
      "Don Levy: A cinematic journey through vi:0.721\n",
      "Helen Fisher: Why we love, why we cheat:0.672\n",
      "Sergey Brin + Larry Page: The genesis of:0.670\n",
      "Maurizio Seracini: The secret lives of p:0.669\n",
      "Cameron Russell: Looks aren't everything:0.668\n",
      "Laura Robinson: The secrets I find on th:0.663\n",
      "Steve Jurvetson: Model rocketry:0.656\n",
      "Michael Moschen: Juggling as art ... and:0.653\n",
      "Sarah Jones: One woman, five characters,:0.644\n",
      "Graham Hawkes: A flight through the ocea:0.644\n",
      "\n",
      "Dan Dennett: Let's teach religion -- all religion -- in schools\n",
      "(2550, 25)\n",
      "(25,)\n",
      "(2550,)\n",
      "David Gallo: Life in the deep oceans:0.909\n",
      "David Gallo: Deep ocean mysteries and wo:0.893\n",
      "Jeffrey Kluger: The sibling bond:0.880\n",
      "Garik Israelian: How spectroscopy could :0.864\n",
      "Matt Weinstein: What Bernie Madoff could:0.841\n",
      "David Bolinsky: Visualizing the wonder o:0.825\n",
      "Memory Banda: A warrior’s cry against ch:0.815\n",
      "Steve Jobs: How to live before you die:0.814\n",
      "Reggie Watts: Beats that defy boxes:0.810\n",
      "Ricardo Semler: How to run a company wit:0.810\n",
      "Sara Ramirez: \"Rollercoaster\":0.808\n",
      "Armando Azua-Bustos: The most Martian pl:0.801\n",
      "Katrina Spade: When I die, recompose me:0.796\n",
      "Lee Cronin: Making matter come alive:0.792\n",
      "Penelope Boston: There might just be lif:0.791\n",
      "\n",
      "Rick Warren: A life of purpose\n",
      "(2550, 25)\n",
      "(25,)\n",
      "(2550,)\n",
      "James Howard Kunstler: The ghastly trage:0.828\n",
      "Pamelia Kurstin: The untouchable music o:0.761\n",
      "David Bolinsky: Visualizing the wonder o:0.757\n",
      "David Hoffman: What happens when you los:0.746\n",
      "Jane McGonigal: The game that can give y:0.745\n",
      "Tal Golesworthy: How I repaired my own h:0.732\n",
      "Jeffrey Kluger: The sibling bond:0.724\n",
      "James Green: 3 moons and a planet that c:0.717\n",
      "Stefan Sagmeister: Happiness by design:0.715\n",
      "Paula Scher: Great design is serious, no:0.715\n",
      "Matt Weinstein: What Bernie Madoff could:0.714\n",
      "David Perry: Are games better than life?:0.713\n",
      "Steve Jobs: How to live before you die:0.706\n",
      "Memory Banda: A warrior’s cry against ch:0.702\n",
      "Seth Shostak: ET is (probably) out there:0.696\n",
      "\n"
     ]
    }
   ],
   "source": [
    "for i in range(10):\n",
    "    print(documents[i][0])\n",
    "    for title, score in closest_projects(i):\n",
    "        print(\"{}:{:.3f}\".format(title[:40], score))\n",
    "    print()"
   ]
  },
  {
   "cell_type": "code",
   "execution_count": 22,
   "metadata": {},
   "outputs": [],
   "source": [
    "#function that takes in the closest_projects function and the index of the desirable video \n",
    "#outputs the url of the second video in the cluster"
   ]
  },
  {
   "cell_type": "code",
   "execution_count": 19,
   "metadata": {},
   "outputs": [],
   "source": [
    "def extract_cluster_ratings(index):\n",
    "    lst=closest_projects(index)\n",
    "    name=lst[1][0]\n",
    "    index=findindex(data,name)\n",
    "    return data[index][\"url\"]"
   ]
  },
  {
   "cell_type": "code",
   "execution_count": null,
   "metadata": {},
   "outputs": [],
   "source": []
  }
 ],
 "metadata": {
  "kernelspec": {
   "display_name": "Python 3",
   "language": "python",
   "name": "python3"
  },
  "language_info": {
   "codemirror_mode": {
    "name": "ipython",
    "version": 3
   },
   "file_extension": ".py",
   "mimetype": "text/x-python",
   "name": "python",
   "nbconvert_exporter": "python",
   "pygments_lexer": "ipython3",
   "version": "3.5.2"
  }
 },
 "nbformat": 4,
 "nbformat_minor": 2
}
