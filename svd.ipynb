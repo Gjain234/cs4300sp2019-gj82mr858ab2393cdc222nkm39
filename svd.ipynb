{
 "cells": [
  {
   "cell_type": "code",
   "execution_count": 1,
   "metadata": {},
   "outputs": [],
   "source": [
    "from __future__ import print_function\n",
    "import numpy as np\n",
    "import json\n",
    "from sklearn.feature_extraction.text import TfidfVectorizer\n",
    "from scipy.sparse.linalg import svds\n",
    "from sklearn.preprocessing import normalize"
   ]
  },
  {
   "cell_type": "code",
   "execution_count": 2,
   "metadata": {},
   "outputs": [],
   "source": [
    "#opens json file and creates a list of tuples with name of video and description called documents\n",
    "#data represents a list of dictionarys for each video with all of the info from ted_main"
   ]
  },
  {
   "cell_type": "code",
   "execution_count": 3,
   "metadata": {},
   "outputs": [],
   "source": [
    "documents=[]\n",
    "with open(\"ted_main.json\", encoding=\"utf8\") as f:\n",
    "    data=json.load(f)\n",
    "    for x in data:\n",
    "        documents.append((x[\"name\"], x[\"description\"]))"
   ]
  },
  {
   "cell_type": "code",
   "execution_count": 4,
   "metadata": {},
   "outputs": [],
   "source": [
    "#given the data file and the title of the video, outputs the index that video is located at"
   ]
  },
  {
   "cell_type": "code",
   "execution_count": 5,
   "metadata": {},
   "outputs": [],
   "source": [
    "def findindex(data,title):\n",
    "    for x in range(len(data)):\n",
    "        if data[x]['name']== title:\n",
    "            return x"
   ]
  },
  {
   "cell_type": "code",
   "execution_count": 6,
   "metadata": {},
   "outputs": [],
   "source": [
    "#creates tf-idf matrix, can alter max_df and min_df"
   ]
  },
  {
   "cell_type": "code",
   "execution_count": 7,
   "metadata": {},
   "outputs": [],
   "source": [
    "vectorizer = TfidfVectorizer(stop_words = 'english', max_df = .8,\n",
    "                            min_df = 40)\n",
    "my_matrix = vectorizer.fit_transform([x[1] for x in documents]).transpose()"
   ]
  },
  {
   "cell_type": "code",
   "execution_count": 8,
   "metadata": {},
   "outputs": [],
   "source": [
    "#runs svd, can alter k but values mostly live in the space under 30"
   ]
  },
  {
   "cell_type": "code",
<<<<<<< HEAD
<<<<<<< HEAD
   "execution_count": 9,
=======
   "execution_count": 16,
>>>>>>> c9d6be8c770cdb3dc7883f181b18d12ead3e3212
=======
   "execution_count": 9,
>>>>>>> 1b26c318a141f5739cb5064efd333654df62f4bd
   "metadata": {},
   "outputs": [
    {
     "name": "stdout",
     "output_type": "stream",
     "text": [
      "(2550, 25)\n"
     ]
    }
   ],
   "source": [
    "words_compressed, _, docs_compressed = svds(my_matrix, k=25)\n",
    "docs_compressed = docs_compressed.transpose()\n",
    "print(docs_compressed.shape)"
   ]
  },
  {
   "cell_type": "code",
<<<<<<< HEAD
   "execution_count": 18,
   "metadata": {},
   "outputs": [
    {
     "name": "stdout",
     "output_type": "stream",
     "text": [
      "(2550, 25)\n"
     ]
    }
   ],
   "source": [
    "print(docs_compressed.shape)"
   ]
  },
  {
   "cell_type": "code",
=======
>>>>>>> c9d6be8c770cdb3dc7883f181b18d12ead3e3212
   "execution_count": 10,
   "metadata": {},
   "outputs": [],
   "source": [
    "#creates clusters of 15 vidoes based on the index of the input video"
   ]
  },
  {
   "cell_type": "code",
<<<<<<< HEAD
   "execution_count": 19,
=======
   "execution_count": 18,
>>>>>>> c9d6be8c770cdb3dc7883f181b18d12ead3e3212
   "metadata": {},
   "outputs": [],
   "source": [
    "docs_compressed = normalize(docs_compressed, axis = 1)\n",
    "def closest_projects(project_index_in, k = 15):\n",
    "    print(docs_compressed.shape)\n",
    "    print(docs_compressed[project_index_in,:].shape)\n",
    "    sims = docs_compressed.dot(docs_compressed[project_index_in,:])\n",
    "    print(sims.shape)\n",
    "    asort = np.argsort(-sims)[:k+1]\n",
    "    return [(documents[i][0],sims[i]/sims[asort[0]]) for i in asort[1:]]"
   ]
  },
  {
   "cell_type": "code",
<<<<<<< HEAD
   "execution_count": 20,
=======
   "execution_count": 12,
>>>>>>> c9d6be8c770cdb3dc7883f181b18d12ead3e3212
   "metadata": {},
   "outputs": [],
   "source": [
    "for i in range(10):\n",
    "   print(documents[i][0])\n",
    "   for title, score in closest_projects(i):\n",
    "       print(\"{}:{:.3f}\".format(title[:40], score))\n",
    "    print()"
   ]
  },
  {
   "cell_type": "code",
<<<<<<< HEAD
   "execution_count": 21,
=======
   "execution_count": 13,
>>>>>>> c9d6be8c770cdb3dc7883f181b18d12ead3e3212
   "metadata": {},
   "outputs": [],
   "source": [
    "#function that takes in the closest_projects function and the index of the desirable video \n",
    "#outputs the url of the second video in the cluster"
   ]
  },
  {
   "cell_type": "code",
<<<<<<< HEAD
   "execution_count": 22,
=======
   "execution_count": 14,
>>>>>>> c9d6be8c770cdb3dc7883f181b18d12ead3e3212
   "metadata": {},
   "outputs": [],
   "source": [
    "def extract_cluster_ratings(index):\n",
    "    lst=closest_projects(index)\n",
    "    name=lst[1][0]\n",
    "    index=findindex(data,name)\n",
    "    return data[index][\"url\"]"
   ]
  },
  {
   "cell_type": "code",
   "execution_count": 30,
   "metadata": {},
   "outputs": [
    {
     "data": {
      "text/plain": [
       "(25,)"
      ]
     },
     "execution_count": 30,
     "metadata": {},
     "output_type": "execute_result"
    }
   ],
   "source": [
    "docs_compressed[5,:].shape"
   ]
  },
  {
   "cell_type": "code",
   "execution_count": 25,
   "metadata": {},
   "outputs": [
    {
     "name": "stdout",
     "output_type": "stream",
     "text": [
      "(2550,)\n"
     ]
    },
    {
     "data": {
      "text/plain": [
       "[('Craig Venter: Watch me unveil \"synthetic life\"', 0.7088062818588836),\n",
       " ('Angela Lee Duckworth: Grit: The power of passion and perseverance',\n",
       "  0.6601777369073624),\n",
       " ('Will Wright: Spore, birth of a game', 0.6481959202547558),\n",
       " ('Kang Lee: Can you really tell if a kid is lying?', 0.6359474445552529),\n",
       " (\"Robert Full: Learning from the gecko's tail\", 0.614377276738622),\n",
       " ('Seth Shostak: ET is (probably) out there -- get ready', 0.6094350715120328),\n",
       " ('Cheryl Hayashi: The magnificence of spider silk', 0.5995814302260511),\n",
       " ('David Baron: You owe it to yourself to experience a total solar eclipse',\n",
       "  0.5975999840159272),\n",
       " ('Ben Goldacre: Battling bad science', 0.5888289676637846),\n",
       " ('Jackie Tabick: The balancing act of compassion', 0.5736950534976701),\n",
       " (\"Raghava KK: What's your 200-year plan?\", 0.5461495704322595),\n",
       " (\"David Casarett: A doctor's case for medical marijuana\", 0.5453769658603724),\n",
       " ('Wendy Freedman: This telescope might show us the beginning of the universe',\n",
       "  0.5451329410368811),\n",
       " ('Keith Chen: Could your language affect your ability to save money?',\n",
       "  0.5441808477884186),\n",
       " ('Golan Levin: Art that looks back at you', 0.5429270796922759)]"
      ]
     },
     "execution_count": 25,
     "metadata": {},
     "output_type": "execute_result"
    }
   ],
   "source": [
    "closest_projects(5)"
   ]
  },
  {
   "cell_type": "code",
   "execution_count": null,
   "metadata": {},
   "outputs": [],
   "source": []
  }
 ],
 "metadata": {
  "kernelspec": {
   "display_name": "Python 3",
   "language": "python",
   "name": "python3"
  },
  "language_info": {
   "codemirror_mode": {
    "name": "ipython",
    "version": 3
   },
   "file_extension": ".py",
   "mimetype": "text/x-python",
   "name": "python",
   "nbconvert_exporter": "python",
   "pygments_lexer": "ipython3",
   "version": "3.5.2"
  }
 },
 "nbformat": 4,
 "nbformat_minor": 2
}
