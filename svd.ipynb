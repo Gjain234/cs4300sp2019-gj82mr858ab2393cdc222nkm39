{
 "cells": [
  {
   "cell_type": "code",
   "execution_count": 1,
   "metadata": {},
   "outputs": [],
   "source": [
    "from __future__ import print_function\n",
    "import numpy as np\n",
    "import json\n",
    "from sklearn.feature_extraction.text import TfidfVectorizer\n",
    "from scipy.sparse.linalg import svds\n",
    "from sklearn.preprocessing import normalize"
   ]
  },
  {
   "cell_type": "code",
   "execution_count": 2,
   "metadata": {},
   "outputs": [],
   "source": [
    "#opens json file and creates a list of tuples with name of video and description called documents\n",
    "#data represents a list of dictionarys for each video with all of the info from ted_main"
   ]
  },
  {
   "cell_type": "code",
   "execution_count": 3,
   "metadata": {},
   "outputs": [],
   "source": [
    "documents=[]\n",
    "with open(\"ted_main.json\", encoding=\"utf8\") as f:\n",
    "    data=json.load(f)\n",
    "    for x in data:\n",
    "        documents.append((x[\"name\"], x[\"description\"]))"
   ]
  },
  {
   "cell_type": "code",
   "execution_count": 4,
   "metadata": {},
   "outputs": [],
   "source": [
    "#given the data file and the title of the video, outputs the index that video is located at"
   ]
  },
  {
   "cell_type": "code",
   "execution_count": 5,
   "metadata": {},
   "outputs": [],
   "source": [
    "def findindex(data,title):\n",
    "    for x in range(len(data)):\n",
    "        if data[x]['name']== title:\n",
    "            return x"
   ]
  },
  {
   "cell_type": "code",
   "execution_count": 6,
   "metadata": {},
   "outputs": [],
   "source": [
    "#creates tf-idf matrix, can alter max_df and min_df"
   ]
  },
  {
   "cell_type": "code",
   "execution_count": 7,
   "metadata": {},
   "outputs": [],
   "source": [
    "vectorizer = TfidfVectorizer(stop_words = 'english', max_df = .8,\n",
    "                            min_df = 40)\n",
    "my_matrix = vectorizer.fit_transform([x[1] for x in documents]).transpose()"
   ]
  },
  {
   "cell_type": "code",
   "execution_count": 8,
   "metadata": {},
   "outputs": [],
   "source": [
    "#runs svd, can alter k but values mostly live in the space under 30"
   ]
  },
  {
   "cell_type": "code",
   "execution_count": 16,
   "metadata": {},
   "outputs": [
    {
     "name": "stdout",
     "output_type": "stream",
     "text": [
      "(2550, 25)\n"
     ]
    }
   ],
   "source": [
    "words_compressed, _, docs_compressed = svds(my_matrix, k=25)\n",
    "docs_compressed = docs_compressed.transpose()\n",
    "print(docs_compressed.shape)"
   ]
  },
  {
   "cell_type": "code",
   "execution_count": 10,
   "metadata": {},
   "outputs": [],
   "source": [
    "#creates clusters of 15 vidoes based on the index of the input video"
   ]
  },
  {
   "cell_type": "code",
   "execution_count": 18,
   "metadata": {},
   "outputs": [],
   "source": [
    "docs_compressed = normalize(docs_compressed, axis = 1)\n",
    "def closest_projects(project_index_in, k = 15):\n",
    "    print(docs_compressed.shape)\n",
    "    print(docs_compressed[project_index_in,:].shape)\n",
    "    sims = docs_compressed.dot(docs_compressed[project_index_in,:])\n",
    "    asort = np.argsort(-sims)[:k+1]\n",
    "    return [(documents[i][0],sims[i]/sims[asort[0]]) for i in asort[1:]]"
   ]
  },
  {
   "cell_type": "code",
   "execution_count": 12,
   "metadata": {},
   "outputs": [],
   "source": [
    "for i in range(10):\n",
    "   print(documents[i][0])\n",
    "   for title, score in closest_projects(i):\n",
    "       print(\"{}:{:.3f}\".format(title[:40], score))\n",
    "    print()"
   ]
  },
  {
   "cell_type": "code",
   "execution_count": 13,
   "metadata": {},
   "outputs": [],
   "source": [
    "#function that takes in the closest_projects function and the index of the desirable video \n",
    "#outputs the url of the second video in the cluster"
   ]
  },
  {
   "cell_type": "code",
   "execution_count": 14,
   "metadata": {},
   "outputs": [],
   "source": [
    "def extract_cluster_ratings(index):\n",
    "    lst=closest_projects(index)\n",
    "    name=lst[1][0]\n",
    "    index=findindex(data,name)\n",
    "    return data[index][\"url\"]"
   ]
  },
  {
   "cell_type": "code",
   "execution_count": null,
   "metadata": {},
   "outputs": [],
   "source": []
  }
 ],
 "metadata": {
  "kernelspec": {
   "display_name": "Python 3",
   "language": "python",
   "name": "python3"
  },
  "language_info": {
   "codemirror_mode": {
    "name": "ipython",
    "version": 3
   },
   "file_extension": ".py",
   "mimetype": "text/x-python",
   "name": "python",
   "nbconvert_exporter": "python",
   "pygments_lexer": "ipython3",
   "version": "3.5.2"
  }
 },
 "nbformat": 4,
 "nbformat_minor": 2
}
