{
 "cells": [
  {
   "cell_type": "code",
   "execution_count": 1,
   "metadata": {},
   "outputs": [],
   "source": [
    "from __future__ import print_function\n",
    "import numpy as np\n",
    "import json\n",
    "from sklearn.feature_extraction.text import TfidfVectorizer\n",
    "from scipy.sparse.linalg import svds\n",
    "from sklearn.preprocessing import normalize"
   ]
  },
  {
   "cell_type": "code",
   "execution_count": 2,
   "metadata": {},
   "outputs": [],
   "source": [
    "#opens json file and creates a list of tuples with name of video and description called documents\n",
    "#data represents a list of dictionarys for each video with all of the info from ted_main"
   ]
  },
  {
   "cell_type": "code",
   "execution_count": 3,
   "metadata": {},
   "outputs": [],
   "source": [
    "documents=[]\n",
    "with open(\"ted_main.json\", encoding=\"utf8\") as f:\n",
    "    data=json.load(f)\n",
    "    for x in data:\n",
    "        documents.append((x[\"name\"], x[\"description\"]))"
   ]
  },
  {
   "cell_type": "code",
   "execution_count": 7,
   "metadata": {},
   "outputs": [],
   "source": [
    "#given the data file and the title of the video, outputs the index that video is located at"
   ]
  },
  {
   "cell_type": "code",
   "execution_count": 8,
   "metadata": {},
   "outputs": [],
   "source": [
    "def findindex(data,title):\n",
    "    for x in range(len(data)):\n",
    "        if data[x]['name']== title:\n",
    "            return x"
   ]
  },
  {
   "cell_type": "code",
   "execution_count": 11,
   "metadata": {},
   "outputs": [],
   "source": [
    "#creates tf-idf matrix, can alter max_df and min_df"
   ]
  },
  {
   "cell_type": "code",
   "execution_count": 70,
   "metadata": {},
   "outputs": [],
   "source": [
    "vectorizer = TfidfVectorizer(stop_words = 'english', max_df = .75,\n",
    "                            min_df = 50)\n",
    "my_matrix = vectorizer.fit_transform([x[1] for x in documents]).transpose()"
   ]
  },
  {
   "cell_type": "code",
   "execution_count": 71,
   "metadata": {},
   "outputs": [],
   "source": [
    "#runs svd, can alter k but values mostly live in the space under 30"
   ]
  },
  {
   "cell_type": "code",
   "execution_count": 77,
   "metadata": {},
   "outputs": [
    {
     "name": "stdout",
     "output_type": "stream",
     "text": [
      "(2550, 40)\n"
     ]
    }
   ],
   "source": [
    "words_compressed, _, docs_compressed = svds(my_matrix, k=40)\n",
    "docs_compressed = docs_compressed.transpose()\n",
    "print(docs_compressed.shape)"
   ]
  },
  {
   "cell_type": "code",
   "execution_count": 78,
   "metadata": {},
   "outputs": [],
   "source": [
    "#creates clusters of 15 vidoes based on the index of the input video"
   ]
  },
  {
   "cell_type": "code",
   "execution_count": 79,
   "metadata": {},
   "outputs": [],
   "source": [
    "docs_compressed = normalize(docs_compressed, axis = 1)\n",
    "def closest_projects(project_index_in, docs_compressed, k = 15):\n",
    "    sims = docs_compressed.dot(docs_compressed[project_index_in,:])\n",
    "    asort = np.argsort(-sims)[:k+1]\n",
    "    return [(documents[i][0],sims[i]/sims[asort[0]]) for i in asort[1:]]"
   ]
  },
  {
   "cell_type": "code",
   "execution_count": 80,
   "metadata": {},
   "outputs": [
    {
     "name": "stdout",
     "output_type": "stream",
     "text": [
      "Do schools kill creativity?\n",
      "[('Jonas Gahr Støre: In defense of dialogue', 0.9760434138352786), ('Lauren Zalaznick: The conscience of television', 0.9084247925540214), ('Kim Gorgens: Protecting the brain against concussion', 0.8765008966286858), ('Myriam Sidibe: The simple power of hand-washing', 0.8667751607420577), ('Noah Feldman: Politics and religion are technologies', 0.8607179924057017), ('Marcel Dicke: Why not eat insects?', 0.8586061011086409), ('Jeff Bezos: What matters more than your talents', 0.8493471009675864), ('Richard Dawkins: Why the universe seems so strange', 0.8254184830572127), ('Peter Diamandis: Abundance is our future', 0.8245982141771252), ('Simon Sinek: Why good leaders make you feel safe', 0.8155052269849342), ('Malcolm Gladwell: Choice, happiness and spaghetti sauce', 0.8122878840159172), ('Gary Vaynerchuk: Do what you love (no excuses!)', 0.8104308009422787), ('Shimon Steinberg: Natural pest control ... using bugs!', 0.8064450739975075), ('Rory Sutherland: Perspective is everything', 0.7943777236093845), ('Kathryn Schulz: On being wrong', 0.7909747651770938)]\n"
     ]
    }
   ],
   "source": [
    "print(data[0]['title'])\n",
    "print(closest_projects(0, docs_compressed))"
   ]
  },
  {
   "cell_type": "code",
   "execution_count": 82,
   "metadata": {},
   "outputs": [
    {
     "name": "stdout",
     "output_type": "stream",
     "text": [
      "Averting the climate crisis\n",
      "[('Juan Enriquez: Using biology to rethink the energy challenge', 0.7828148297970142), ('Audrey Choi: How to make a profit while making a difference', 0.7454212282344344), ('Jill Sobule: Global warming\\'s theme song, \"Manhattan in January\"', 0.730664606773714), ('Becci Manson: (Re)touching lives through photos', 0.730664606773714), ('Hugh Evans: What does it mean to be a citizen of the world?', 0.7254080005817897), ('The LXD: In the Internet age, dance evolves ...', 0.7159747720858395), ('Al Gore: New thinking on the climate crisis', 0.7128493025584265), ('Charmian Gooch: My wish: To launch a new era of openness in business', 0.6669067057312604), ('Drew Berry: Animations of unseeable biology', 0.6542698563618953), ('Bjorn Lomborg: Global priorities bigger than climate change', 0.6428088359054435), ('Paddy Ashdown: The global power shift', 0.6351366455694082), ('Michael Green: How we can make the world a better place by 2030', 0.6330525223310709), ('Stefano Mancuso: The roots of plant intelligence', 0.6264724567655295), ('James Hansen: Why I must speak out about climate change', 0.6247378456880263), ('Gordon Brown: Wiring a web for global good', 0.6245665310088414)]\n"
     ]
    }
   ],
   "source": [
    "print(data[1]['title'])\n",
    "print(closest_projects(1, docs_compressed))"
   ]
  },
  {
   "cell_type": "code",
   "execution_count": 84,
   "metadata": {},
   "outputs": [
    {
     "name": "stdout",
     "output_type": "stream",
     "text": [
      "Greening the ghetto\n",
      "[('Bjarke Ingels: Hedonistic sustainability', 0.9621206454060154), ('Jonathan Drori: The beautiful tricks of flowers', 0.8576943260899125), ('Richard Resnick: Welcome to the genomic revolution', 0.8563805830890029), ('Danielle de Niese: A flirtatious aria', 0.8093641507997104), ('Seth Priebatsch: The game layer on top of the world', 0.8082739617536385), ('Roger Doiron: My subversive (garden) plot', 0.7893934646897841), ('Jeff Han: The radical promise of the multi-touch interface', 0.7573038840658094), ('Cynthia Schneider: The surprising spread of Idol TV', 0.7473486211261559), ('Carolyn Porco: This is Saturn', 0.7427640790168326), ('Kate Hartman: The art of wearable communication', 0.740725285833474), ('Shereen El Feki: Pop culture in the Arab world', 0.7358841876638001), ('Kamal Meattle: How to grow fresh air', 0.7296672931726582), ('Svante Pääbo: DNA clues to our inner neanderthal', 0.718670625355767), (\"Richard Pyle: A dive into the reef's Twilight Zone\", 0.7094472349122624), ('Stacey Kramer: The best gift I ever survived', 0.6955569516416796)]\n"
     ]
    }
   ],
   "source": [
    "print(data[3]['title'])\n",
    "print(closest_projects(3, docs_compressed))"
   ]
  },
  {
   "cell_type": "code",
   "execution_count": 33,
   "metadata": {},
   "outputs": [
    {
     "name": "stdout",
     "output_type": "stream",
     "text": [
      "Ken Robinson: Do schools kill creativity?\n"
     ]
    },
    {
     "ename": "TypeError",
     "evalue": "closest_projects() missing 1 required positional argument: 'docs_compressed'",
     "output_type": "error",
     "traceback": [
      "\u001b[1;31m---------------------------------------------------------------------------\u001b[0m",
      "\u001b[1;31mTypeError\u001b[0m                                 Traceback (most recent call last)",
      "\u001b[1;32m<ipython-input-33-c6597ec4edae>\u001b[0m in \u001b[0;36m<module>\u001b[1;34m()\u001b[0m\n\u001b[0;32m      1\u001b[0m \u001b[1;32mfor\u001b[0m \u001b[0mi\u001b[0m \u001b[1;32min\u001b[0m \u001b[0mrange\u001b[0m\u001b[1;33m(\u001b[0m\u001b[1;36m10\u001b[0m\u001b[1;33m)\u001b[0m\u001b[1;33m:\u001b[0m\u001b[1;33m\u001b[0m\u001b[0m\n\u001b[0;32m      2\u001b[0m     \u001b[0mprint\u001b[0m\u001b[1;33m(\u001b[0m\u001b[0mdocuments\u001b[0m\u001b[1;33m[\u001b[0m\u001b[0mi\u001b[0m\u001b[1;33m]\u001b[0m\u001b[1;33m[\u001b[0m\u001b[1;36m0\u001b[0m\u001b[1;33m]\u001b[0m\u001b[1;33m)\u001b[0m\u001b[1;33m\u001b[0m\u001b[0m\n\u001b[1;32m----> 3\u001b[1;33m     \u001b[1;32mfor\u001b[0m \u001b[0mtitle\u001b[0m\u001b[1;33m,\u001b[0m \u001b[0mscore\u001b[0m \u001b[1;32min\u001b[0m \u001b[0mclosest_projects\u001b[0m\u001b[1;33m(\u001b[0m\u001b[0mi\u001b[0m\u001b[1;33m)\u001b[0m\u001b[1;33m:\u001b[0m\u001b[1;33m\u001b[0m\u001b[0m\n\u001b[0m\u001b[0;32m      4\u001b[0m         \u001b[0mprint\u001b[0m\u001b[1;33m(\u001b[0m\u001b[1;34m\"{}:{:.3f}\"\u001b[0m\u001b[1;33m.\u001b[0m\u001b[0mformat\u001b[0m\u001b[1;33m(\u001b[0m\u001b[0mtitle\u001b[0m\u001b[1;33m[\u001b[0m\u001b[1;33m:\u001b[0m\u001b[1;36m40\u001b[0m\u001b[1;33m]\u001b[0m\u001b[1;33m,\u001b[0m \u001b[0mscore\u001b[0m\u001b[1;33m)\u001b[0m\u001b[1;33m)\u001b[0m\u001b[1;33m\u001b[0m\u001b[0m\n\u001b[0;32m      5\u001b[0m     \u001b[0mprint\u001b[0m\u001b[1;33m(\u001b[0m\u001b[1;33m)\u001b[0m\u001b[1;33m\u001b[0m\u001b[0m\n",
      "\u001b[1;31mTypeError\u001b[0m: closest_projects() missing 1 required positional argument: 'docs_compressed'"
     ]
    }
   ],
   "source": [
    "for i in range(10):\n",
    "    print(documents[i][0])\n",
    "    for title, score in closest_projects(i):\n",
    "        print(\"{}:{:.3f}\".format(title[:40], score))\n",
    "    print()"
   ]
  },
  {
   "cell_type": "code",
   "execution_count": 34,
   "metadata": {},
   "outputs": [],
   "source": [
    "#function that takes in the closest_projects function and the index of the desirable video \n",
    "#outputs the url of the second video in the cluster"
   ]
  },
  {
   "cell_type": "code",
   "execution_count": 20,
   "metadata": {},
   "outputs": [],
   "source": [
    "def extract_cluster_ratings(index):\n",
    "    lst=closest_projects(index)\n",
    "    print(lst)\n",
    "    name=lst[1][0]\n",
    "    print(name)\n",
    "    index=findindex(data,name)\n",
    "    print(index)\n",
    "    return data[index][\"url\"]"
   ]
  },
  {
   "cell_type": "code",
   "execution_count": 22,
   "metadata": {},
   "outputs": [],
   "source": [
    "import ast"
   ]
  },
  {
   "cell_type": "code",
   "execution_count": 35,
   "metadata": {},
   "outputs": [],
   "source": [
    "def moodvid(lst,mood,data):\n",
    "    mx=0\n",
    "    vid=0;\n",
    "    for x in range(len(lst)):\n",
    "        name=lst[x][0]\n",
    "        index=findindex(data,name)\n",
    "        ratings=ast.literal_eval(data[index]['ratings'])\n",
    "        for el in range(len(ratings)):\n",
    "            if ratings[el]['name']==mood:\n",
    "                count= ratings[el]['count']\n",
    "                if count > mx:\n",
    "                    mx=count\n",
    "                    vid=index\n",
    "    return vid\n",
    "    "
   ]
  },
  {
   "cell_type": "code",
   "execution_count": 85,
   "metadata": {},
   "outputs": [],
   "source": [
    "def moodvid(lst,mood,data): #returning 1 video\n",
    "    mx=0\n",
    "    vid=0;\n",
    "    vid_mood_lst = []\n",
    "    for x in range(len(lst)):\n",
    "        name=lst[x][0]\n",
    "        index=findindex(data,name)\n",
    "        ratings=ast.literal_eval(data[index]['ratings'])\n",
    "        for el in range(len(ratings)):\n",
    "            if ratings[el]['name']==mood:\n",
    "                count= ratings[el]['count']\n",
    "                vid_mood_lst.append((index,count))\n",
    "        sorted_vid_mood_lst = sorted(vid_mood_lst, key=lambda tup: tup[1])\n",
    "    return sorted_vid_mood_lst"
   ]
  },
  {
   "cell_type": "code",
   "execution_count": 25,
   "metadata": {},
   "outputs": [],
   "source": [
    "def extract_cluster_ratings2(index, mood):\n",
    "    lst=closest_projects(index)\n",
    "    i=moodvid(lst, mood, data)\n",
    "    return data[i][\"url\"]"
   ]
  },
  {
   "cell_type": "code",
   "execution_count": 86,
   "metadata": {},
   "outputs": [],
   "source": [
    "def top_svd(data, index, mood):\n",
    "    print(data[index]['name'])\n",
    "    lst=closest_projects(index, docs_compressed)\n",
    "    ranked_vids = moodvid(lst,mood,data) #tuple of index and count\n",
    "    print(ranked_vids)\n",
    "    top_vids = []\n",
    "    for i in range(10):\n",
    "        ind = ranked_vids[i][0]\n",
    "        temp_url = data[ind]['url']\n",
    "        print(data[ind]['title'])\n",
    "        print(data[ind]['description'])\n",
    "        embed_url = \"https://embed.ted.com/talks/\" + temp_url[26:]\n",
    "        top_vids.append([embed_url, i-1, data[ind]['title'], data[ind]['description']])\n",
    "    return top_vids\n"
   ]
  },
  {
   "cell_type": "code",
   "execution_count": 87,
   "metadata": {},
   "outputs": [
    {
     "data": {
      "text/plain": [
       "[('Jonas Gahr Støre: In defense of dialogue', 0.9760434138352786),\n",
       " ('Lauren Zalaznick: The conscience of television', 0.9084247925540214),\n",
       " ('Kim Gorgens: Protecting the brain against concussion', 0.8765008966286858),\n",
       " ('Myriam Sidibe: The simple power of hand-washing', 0.8667751607420577),\n",
       " ('Noah Feldman: Politics and religion are technologies', 0.8607179924057017),\n",
       " ('Marcel Dicke: Why not eat insects?', 0.8586061011086409),\n",
       " ('Jeff Bezos: What matters more than your talents', 0.8493471009675864),\n",
       " ('Richard Dawkins: Why the universe seems so strange', 0.8254184830572127),\n",
       " ('Peter Diamandis: Abundance is our future', 0.8245982141771252),\n",
       " ('Simon Sinek: Why good leaders make you feel safe', 0.8155052269849342),\n",
       " ('Malcolm Gladwell: Choice, happiness and spaghetti sauce',\n",
       "  0.8122878840159172),\n",
       " ('Gary Vaynerchuk: Do what you love (no excuses!)', 0.8104308009422787),\n",
       " ('Shimon Steinberg: Natural pest control ... using bugs!',\n",
       "  0.8064450739975075),\n",
       " ('Rory Sutherland: Perspective is everything', 0.7943777236093845),\n",
       " ('Kathryn Schulz: On being wrong', 0.7909747651770938)]"
      ]
     },
     "execution_count": 87,
     "metadata": {},
     "output_type": "execute_result"
    }
   ],
   "source": [
    "closest_projects(0, docs_compressed)"
   ]
  },
  {
   "cell_type": "code",
   "execution_count": 90,
   "metadata": {},
   "outputs": [
    {
     "name": "stdout",
     "output_type": "stream",
     "text": [
      "Al Gore: Averting the climate crisis\n",
      "[(86, 25), (2146, 156), (1703, 200), (1109, 224), (161, 246), (51, 280), (1305, 294), (786, 300), (1166, 302), (1102, 311), (2063, 413), (631, 543), (491, 711), (2181, 859), (214, 1435)]\n",
      "Global warming's theme song, \"Manhattan in January\"\n",
      "A happy song about global warming, from Jill Sobule.\n",
      "How to make a profit while making a difference\n",
      "Can global capital markets become catalysts for social change? According to investment expert Audrey Choi, individuals own almost half of all global capital, giving them (us!) the power to make a difference by investing in companies that champion social values and sustainability. \"We have more opportunity today than ever before to make choices,\" she says. \"So change your perspective. Invest in the change you want to see in the world.\"\n",
      "My wish: To launch a new era of openness in business\n",
      "Anonymous companies protect corrupt individuals – from notorious drug cartel leaders to nefarious arms dealers – behind a shroud of mystery that makes it almost impossible to find and hold them responsible. But anti-corruption activist Charmian Gooch hopes to change all that. At TED2014, she shares her brave TED Prize wish: to know who owns and controls companies, to change the law, and to launch a new era of openness in business.\n",
      "Animations of unseeable biology\n",
      "We have no ways to directly observe molecules and what they do -- but Drew Berry wants to change that. He demos his scientifically accurate (and entertaining!) animations that help researchers see unseeable processes within our own cells.\n",
      "Using biology to rethink the energy challenge\n",
      "Juan Enriquez challenges our definition of bioenergy. Oil, coal, gas and other hydrocarbons are not chemical but biological products, based on plant matter -- and thus, growable. Our whole approach to fuel, he argues, needs to change.\n",
      "Global priorities bigger than climate change\n",
      "Given $50 billion to spend, which would you solve first, AIDS or global warming? Danish political scientist Bjorn Lomborg comes up with surprising answers.\n",
      "(Re)touching lives through photos\n",
      "In the wake of the 2011 Japanese earthquake and tsunami, mixed into the wreckage were lost and damaged photos of families and loved ones. Photo retoucher Becci Manson, together with local volunteers and a global group of colleagues she recruited online, helped clean and fix them, restoring those memories to their owners.\n",
      "The roots of plant intelligence\n",
      "Plants behave in some oddly intelligent ways: fighting predators, maximizing food opportunities ... But can we think of them as actually having a form of intelligence of their own? Italian botanist Stefano Mancuso presents intriguing evidence.\n",
      "Why I must speak out about climate change\n",
      "Top climate scientist James Hansen tells the story of his involvement in the science of and debate over global climate change. In doing so he outlines the overwhelming evidence that change is happening and why that makes him deeply worried about the future.\n",
      "The global power shift\n",
      "Paddy Ashdown believes we are living in a moment in history where power is changing in ways it never has before. In a spellbinding talk he outlines the three major global shifts that he sees coming.\n"
     ]
    },
    {
     "data": {
      "text/plain": [
       "[['https://embed.ted.com/talks/jill_sobule_sings_to_al_gore\\n',\n",
       "  -1,\n",
       "  'Global warming\\'s theme song, \"Manhattan in January\"',\n",
       "  'A happy song about global warming, from Jill Sobule.'],\n",
       " ['https://embed.ted.com/talks/audrey_choi_how_to_make_a_profit_while_making_a_difference\\n',\n",
       "  0,\n",
       "  'How to make a profit while making a difference',\n",
       "  'Can global capital markets become catalysts for social change? According to investment expert Audrey Choi, individuals own almost half of all global capital, giving them (us!) the power to make a difference by investing in companies that champion social values and sustainability. \"We have more opportunity today than ever before to make choices,\" she says. \"So change your perspective. Invest in the change you want to see in the world.\"'],\n",
       " ['https://embed.ted.com/talks/charmian_gooch_my_wish_to_launch_a_new_era_of_openness_in_business\\n',\n",
       "  1,\n",
       "  'My wish: To launch a new era of openness in business',\n",
       "  'Anonymous companies protect corrupt individuals – from notorious drug cartel leaders to nefarious arms dealers – behind a shroud of mystery that makes it almost impossible to find and hold them responsible. But anti-corruption activist Charmian Gooch hopes to change all that. At TED2014, she shares her brave TED Prize wish: to know who owns and controls companies, to change the law, and to launch a new era of openness in business.'],\n",
       " ['https://embed.ted.com/talks/drew_berry_animations_of_unseeable_biology\\n',\n",
       "  2,\n",
       "  'Animations of unseeable biology',\n",
       "  'We have no ways to directly observe molecules and what they do -- but Drew Berry wants to change that. He demos his scientifically accurate (and entertaining!) animations that help researchers see unseeable processes within our own cells.'],\n",
       " ['https://embed.ted.com/talks/juan_enriquez_wants_to_grow_energy\\n',\n",
       "  3,\n",
       "  'Using biology to rethink the energy challenge',\n",
       "  'Juan Enriquez challenges our definition of bioenergy. Oil, coal, gas and other hydrocarbons are not chemical but biological products, based on plant matter -- and thus, growable. Our whole approach to fuel, he argues, needs to change.'],\n",
       " ['https://embed.ted.com/talks/bjorn_lomborg_sets_global_priorities\\n',\n",
       "  4,\n",
       "  'Global priorities bigger than climate change',\n",
       "  'Given $50 billion to spend, which would you solve first, AIDS or global warming? Danish political scientist Bjorn Lomborg comes up with surprising answers.'],\n",
       " ['https://embed.ted.com/talks/becci_manson_re_touching_lives_through_photos\\n',\n",
       "  5,\n",
       "  '(Re)touching lives through photos',\n",
       "  'In the wake of the 2011 Japanese earthquake and tsunami, mixed into the wreckage were lost and damaged photos of families and loved ones. Photo retoucher Becci Manson, together with local volunteers and a global group of colleagues she recruited online, helped clean and fix them, restoring those memories to their owners.'],\n",
       " ['https://embed.ted.com/talks/stefano_mancuso_the_roots_of_plant_intelligence\\n',\n",
       "  6,\n",
       "  'The roots of plant intelligence',\n",
       "  'Plants behave in some oddly intelligent ways: fighting predators, maximizing food opportunities ... But can we think of them as actually having a form of intelligence of their own? Italian botanist Stefano Mancuso presents intriguing evidence.'],\n",
       " ['https://embed.ted.com/talks/james_hansen_why_i_must_speak_out_about_climate_change\\n',\n",
       "  7,\n",
       "  'Why I must speak out about climate change',\n",
       "  'Top climate scientist James Hansen tells the story of his involvement in the science of and debate over global climate change. In doing so he outlines the overwhelming evidence that change is happening and why that makes him deeply worried about the future.'],\n",
       " ['https://embed.ted.com/talks/paddy_ashdown_the_global_power_shift\\n',\n",
       "  8,\n",
       "  'The global power shift',\n",
       "  'Paddy Ashdown believes we are living in a moment in history where power is changing in ways it never has before. In a spellbinding talk he outlines the three major global shifts that he sees coming.']]"
      ]
     },
     "execution_count": 90,
     "metadata": {},
     "output_type": "execute_result"
    }
   ],
   "source": [
    "top_svd(data, 1, \"Inspiring\")"
   ]
  },
  {
   "cell_type": "code",
   "execution_count": null,
   "metadata": {},
   "outputs": [],
   "source": []
  }
 ],
 "metadata": {
  "kernelspec": {
   "display_name": "Python 3",
   "language": "python",
   "name": "python3"
  },
  "language_info": {
   "codemirror_mode": {
    "name": "ipython",
    "version": 3
   },
   "file_extension": ".py",
   "mimetype": "text/x-python",
   "name": "python",
   "nbconvert_exporter": "python",
   "pygments_lexer": "ipython3",
   "version": "3.5.2"
  }
 },
 "nbformat": 4,
 "nbformat_minor": 2
}
